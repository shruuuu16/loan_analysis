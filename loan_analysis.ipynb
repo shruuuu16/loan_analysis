{
 "cells": [
  {
   "cell_type": "code",
   "execution_count": 7,
   "id": "58c24ce1-b117-41d8-954e-c97728eefc44",
   "metadata": {},
   "outputs": [
    {
     "name": "stdout",
     "output_type": "stream",
     "text": [
      "    Loan_ID Gender Married Dependents     Education Self_Employed  \\\n",
      "0  LP001002   Male      No          0      Graduate            No   \n",
      "1  LP001003   Male     Yes          1      Graduate            No   \n",
      "2  LP001005   Male     Yes          0      Graduate           Yes   \n",
      "3  LP001006   Male     Yes          0  Not Graduate            No   \n",
      "4  LP001008   Male      No          0      Graduate            No   \n",
      "\n",
      "   ApplicantIncome  CoapplicantIncome  LoanAmount  Loan_Amount_Term  \\\n",
      "0             5849                0.0         NaN             360.0   \n",
      "1             4583             1508.0       128.0             360.0   \n",
      "2             3000                0.0        66.0             360.0   \n",
      "3             2583             2358.0       120.0             360.0   \n",
      "4             6000                0.0       141.0             360.0   \n",
      "\n",
      "   Credit_History Property_Area Loan_Status  \n",
      "0             1.0         Urban           Y  \n",
      "1             1.0         Rural           N  \n",
      "2             1.0         Urban           Y  \n",
      "3             1.0         Urban           Y  \n",
      "4             1.0         Urban           Y  \n",
      "\n",
      "\n",
      "Column Names\n",
      "\n",
      "\n",
      "Index(['Loan_ID', 'Gender', 'Married', 'Dependents', 'Education',\n",
      "       'Self_Employed', 'ApplicantIncome', 'CoapplicantIncome', 'LoanAmount',\n",
      "       'Loan_Amount_Term', 'Credit_History', 'Property_Area', 'Loan_Status'],\n",
      "      dtype='object')\n",
      "shape of training data :  (384, 20)\n",
      "shape of testing data :  (96, 20)\n",
      "Predicted Values on Test Data [1 1 1 1 1 1 1 1 1 1 1 1 0 1 1 1 1 1 0 1 1 1 1 1 0 1 1 1 1 1 1 1 1 1 1 1 1\n",
      " 1 1 0 1 1 1 1 1 1 1 1 1 1 1 1 1 1 1 1 0 0 0 0 1 1 1 1 1 1 1 1 1 1 1 1 1 1\n",
      " 1 1 1 1 1 1 1 1 1 0 1 1 0 1 1 0 1 0 0 1 1 1]\n",
      "\n",
      "\n",
      "Accuracy Score on test data : \n",
      "\n",
      "\n",
      "0.7291666666666666\n"
     ]
    },
    {
     "name": "stderr",
     "output_type": "stream",
     "text": [
      "C:\\Users\\shrey\\OneDrive\\Documents\\conda\\Lib\\site-packages\\sklearn\\linear_model\\_logistic.py:458: ConvergenceWarning: lbfgs failed to converge (status=1):\n",
      "STOP: TOTAL NO. of ITERATIONS REACHED LIMIT.\n",
      "\n",
      "Increase the number of iterations (max_iter) or scale the data as shown in:\n",
      "    https://scikit-learn.org/stable/modules/preprocessing.html\n",
      "Please also refer to the documentation for alternative solver options:\n",
      "    https://scikit-learn.org/stable/modules/linear_model.html#logistic-regression\n",
      "  n_iter_i = _check_optimize_result(\n"
     ]
    }
   ],
   "source": [
    "import pandas as pd\n",
    "from sklearn.linear_model import LogisticRegression\n",
    "from sklearn.model_selection import train_test_split\n",
    "from sklearn.preprocessing import LabelEncoder\n",
    "from sklearn.metrics import accuracy_score\n",
    "\n",
    "\n",
    "data = pd.read_csv('loan.csv')\n",
    "print(data.head())\n",
    "\n",
    "print('\\n\\nColumn Names\\n\\n')\n",
    "print(data.columns)\n",
    "\n",
    "encode = LabelEncoder()\n",
    "data.Loan_Status = encode.fit_transform(data.Loan_Status)\n",
    "\n",
    "data.dropna(how='any',inplace=True)\n",
    "\n",
    "\n",
    "train , test = train_test_split(data,test_size=0.2,random_state=0)\n",
    "\n",
    "\n",
    "\n",
    "train_x = train.drop(columns=['Loan_ID','Loan_Status'],axis=1)\n",
    "train_y = train['Loan_Status']\n",
    "\n",
    "test_x = test.drop(columns=['Loan_ID','Loan_Status'],axis=1)\n",
    "test_y = test['Loan_Status']\n",
    "\n",
    "train_x = pd.get_dummies(train_x)\n",
    "test_x  = pd.get_dummies(test_x)\n",
    "\n",
    "print('shape of training data : ',train_x.shape)\n",
    "print('shape of testing data : ',test_x.shape)\n",
    "\n",
    "model = LogisticRegression()\n",
    "\n",
    "model.fit(train_x,train_y)\n",
    "\n",
    "predict = model.predict(test_x)\n",
    "\n",
    "print('Predicted Values on Test Data',predict)\n",
    "\n",
    "print('\\n\\nAccuracy Score on test data : \\n\\n')\n",
    "print(accuracy_score(test_y,predict))"
   ]
  },
  {
   "cell_type": "code",
   "execution_count": null,
   "id": "bbc6ae26-a0be-4b2a-b0ac-f0071fadc890",
   "metadata": {},
   "outputs": [],
   "source": [
    "\n"
   ]
  },
  {
   "cell_type": "code",
   "execution_count": null,
   "id": "91a2da22-bbd9-4043-8f64-fcd022663373",
   "metadata": {},
   "outputs": [],
   "source": []
  }
 ],
 "metadata": {
  "kernelspec": {
   "display_name": "Python 3 (ipykernel)",
   "language": "python",
   "name": "python3"
  },
  "language_info": {
   "codemirror_mode": {
    "name": "ipython",
    "version": 3
   },
   "file_extension": ".py",
   "mimetype": "text/x-python",
   "name": "python",
   "nbconvert_exporter": "python",
   "pygments_lexer": "ipython3",
   "version": "3.11.7"
  }
 },
 "nbformat": 4,
 "nbformat_minor": 5
}
